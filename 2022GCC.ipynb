{
  "nbformat": 4,
  "nbformat_minor": 0,
  "metadata": {
    "colab": {
      "provenance": [],
      "include_colab_link": true
    },
    "kernelspec": {
      "name": "python3",
      "display_name": "Python 3"
    },
    "language_info": {
      "name": "python"
    }
  },
  "cells": [
    {
      "cell_type": "markdown",
      "metadata": {
        "id": "view-in-github",
        "colab_type": "text"
      },
      "source": [
        "<a href=\"https://colab.research.google.com/github/Susanoameno/anime2021/blob/main/2022GCC.ipynb\" target=\"_parent\"><img src=\"https://colab.research.google.com/assets/colab-badge.svg\" alt=\"Open In Colab\"/></a>"
      ]
    },
    {
      "cell_type": "markdown",
      "source": [
        "# C言語とシェル"
      ],
      "metadata": {
        "id": "yXmzCInRHCU9"
      }
    },
    {
      "cell_type": "markdown",
      "source": [
        "シェルコマンドを使うとき\n",
        "```\n",
        "!コマンド\n",
        "```"
      ],
      "metadata": {
        "id": "VQVtJvqCrNQ3"
      }
    },
    {
      "cell_type": "markdown",
      "source": [
        "## Colabとは何か？"
      ],
      "metadata": {
        "id": "wP6aA6pQqNqO"
      }
    },
    {
      "cell_type": "code",
      "execution_count": null,
      "metadata": {
        "id": "r5N7wN5FG7H6",
        "colab": {
          "base_uri": "https://localhost:8080/"
        },
        "outputId": "58f72328-6a8e-4a74-aa4f-11197a1e8faf"
      },
      "outputs": [
        {
          "output_type": "stream",
          "name": "stdout",
          "text": [
            "Linux 8d30166f8afc 5.10.133+ #1 SMP Fri Aug 26 08:44:51 UTC 2022 x86_64 x86_64 x86_64 GNU/Linux\n"
          ]
        }
      ],
      "source": [
        "!uname -a"
      ]
    },
    {
      "cell_type": "code",
      "source": [
        "!cat /proc/cpuinfo"
      ],
      "metadata": {
        "colab": {
          "base_uri": "https://localhost:8080/"
        },
        "id": "zgzpPLy2ri0u",
        "outputId": "49bf7c48-d181-44f2-b025-5d406821672f"
      },
      "execution_count": null,
      "outputs": [
        {
          "output_type": "stream",
          "name": "stdout",
          "text": [
            "processor\t: 0\n",
            "vendor_id\t: GenuineIntel\n",
            "cpu family\t: 6\n",
            "model\t\t: 79\n",
            "model name\t: Intel(R) Xeon(R) CPU @ 2.20GHz\n",
            "stepping\t: 0\n",
            "microcode\t: 0x1\n",
            "cpu MHz\t\t: 2199.998\n",
            "cache size\t: 56320 KB\n",
            "physical id\t: 0\n",
            "siblings\t: 2\n",
            "core id\t\t: 0\n",
            "cpu cores\t: 1\n",
            "apicid\t\t: 0\n",
            "initial apicid\t: 0\n",
            "fpu\t\t: yes\n",
            "fpu_exception\t: yes\n",
            "cpuid level\t: 13\n",
            "wp\t\t: yes\n",
            "flags\t\t: fpu vme de pse tsc msr pae mce cx8 apic sep mtrr pge mca cmov pat pse36 clflush mmx fxsr sse sse2 ss ht syscall nx pdpe1gb rdtscp lm constant_tsc rep_good nopl xtopology nonstop_tsc cpuid tsc_known_freq pni pclmulqdq ssse3 fma cx16 pcid sse4_1 sse4_2 x2apic movbe popcnt aes xsave avx f16c rdrand hypervisor lahf_lm abm 3dnowprefetch invpcid_single ssbd ibrs ibpb stibp fsgsbase tsc_adjust bmi1 hle avx2 smep bmi2 erms invpcid rtm rdseed adx smap xsaveopt arat md_clear arch_capabilities\n",
            "bugs\t\t: cpu_meltdown spectre_v1 spectre_v2 spec_store_bypass l1tf mds swapgs taa mmio_stale_data retbleed\n",
            "bogomips\t: 4399.99\n",
            "clflush size\t: 64\n",
            "cache_alignment\t: 64\n",
            "address sizes\t: 46 bits physical, 48 bits virtual\n",
            "power management:\n",
            "\n",
            "processor\t: 1\n",
            "vendor_id\t: GenuineIntel\n",
            "cpu family\t: 6\n",
            "model\t\t: 79\n",
            "model name\t: Intel(R) Xeon(R) CPU @ 2.20GHz\n",
            "stepping\t: 0\n",
            "microcode\t: 0x1\n",
            "cpu MHz\t\t: 2199.998\n",
            "cache size\t: 56320 KB\n",
            "physical id\t: 0\n",
            "siblings\t: 2\n",
            "core id\t\t: 0\n",
            "cpu cores\t: 1\n",
            "apicid\t\t: 1\n",
            "initial apicid\t: 1\n",
            "fpu\t\t: yes\n",
            "fpu_exception\t: yes\n",
            "cpuid level\t: 13\n",
            "wp\t\t: yes\n",
            "flags\t\t: fpu vme de pse tsc msr pae mce cx8 apic sep mtrr pge mca cmov pat pse36 clflush mmx fxsr sse sse2 ss ht syscall nx pdpe1gb rdtscp lm constant_tsc rep_good nopl xtopology nonstop_tsc cpuid tsc_known_freq pni pclmulqdq ssse3 fma cx16 pcid sse4_1 sse4_2 x2apic movbe popcnt aes xsave avx f16c rdrand hypervisor lahf_lm abm 3dnowprefetch invpcid_single ssbd ibrs ibpb stibp fsgsbase tsc_adjust bmi1 hle avx2 smep bmi2 erms invpcid rtm rdseed adx smap xsaveopt arat md_clear arch_capabilities\n",
            "bugs\t\t: cpu_meltdown spectre_v1 spectre_v2 spec_store_bypass l1tf mds swapgs taa mmio_stale_data retbleed\n",
            "bogomips\t: 4399.99\n",
            "clflush size\t: 64\n",
            "cache_alignment\t: 64\n",
            "address sizes\t: 46 bits physical, 48 bits virtual\n",
            "power management:\n",
            "\n"
          ]
        }
      ]
    },
    {
      "cell_type": "markdown",
      "source": [
        "# Cプログラム"
      ],
      "metadata": {
        "id": "RUrNuBkir6Zg"
      }
    },
    {
      "cell_type": "code",
      "source": [
        "%%writefile hello.c\n",
        "#include<stdio.h>\n",
        "\n",
        "int main()\n",
        "{\n",
        "    printf(\"Hello, world\\n\");\n",
        "    return 0;\n",
        "}\n"
      ],
      "metadata": {
        "colab": {
          "base_uri": "https://localhost:8080/"
        },
        "id": "bkDAjcdjr9zs",
        "outputId": "21b15ce2-6e4d-40cb-c3ea-f8a7709aaa99"
      },
      "execution_count": null,
      "outputs": [
        {
          "output_type": "stream",
          "name": "stdout",
          "text": [
            "Writing hello.c\n"
          ]
        }
      ]
    },
    {
      "cell_type": "code",
      "source": [
        "!gcc -S hello.c"
      ],
      "metadata": {
        "id": "3U93U54AsOR4"
      },
      "execution_count": null,
      "outputs": []
    },
    {
      "cell_type": "code",
      "source": [
        "!ls"
      ],
      "metadata": {
        "colab": {
          "base_uri": "https://localhost:8080/"
        },
        "id": "F0Bj8smdsVoP",
        "outputId": "d625b601-68ee-4e40-bb9e-8c6c8c4f8b87"
      },
      "execution_count": null,
      "outputs": [
        {
          "output_type": "stream",
          "name": "stdout",
          "text": [
            "a.out  hello.c\thello.s  sample_data\n"
          ]
        }
      ]
    },
    {
      "cell_type": "code",
      "source": [
        "!cat hello.s"
      ],
      "metadata": {
        "colab": {
          "base_uri": "https://localhost:8080/"
        },
        "id": "qLh0nRBAsXjc",
        "outputId": "c7ae8570-93d0-4ace-9758-753f5541e779"
      },
      "execution_count": null,
      "outputs": [
        {
          "output_type": "stream",
          "name": "stdout",
          "text": [
            "\t.file\t\"hello.c\"\n",
            "\t.text\n",
            "\t.section\t.rodata\n",
            ".LC0:\n",
            "\t.string\t\"Hello, world\"\n",
            "\t.text\n",
            "\t.globl\tmain\n",
            "\t.type\tmain, @function\n",
            "main:\n",
            ".LFB0:\n",
            "\t.cfi_startproc\n",
            "\tpushq\t%rbp\n",
            "\t.cfi_def_cfa_offset 16\n",
            "\t.cfi_offset 6, -16\n",
            "\tmovq\t%rsp, %rbp\n",
            "\t.cfi_def_cfa_register 6\n",
            "\tleaq\t.LC0(%rip), %rdi\n",
            "\tcall\tputs@PLT\n",
            "\tmovl\t$0, %eax\n",
            "\tpopq\t%rbp\n",
            "\t.cfi_def_cfa 7, 8\n",
            "\tret\n",
            "\t.cfi_endproc\n",
            ".LFE0:\n",
            "\t.size\tmain, .-main\n",
            "\t.ident\t\"GCC: (Ubuntu 7.5.0-3ubuntu1~18.04) 7.5.0\"\n",
            "\t.section\t.note.GNU-stack,\"\",@progbits\n"
          ]
        }
      ]
    },
    {
      "cell_type": "markdown",
      "source": [
        "# Python"
      ],
      "metadata": {
        "id": "tJZw32BpuPsS"
      }
    },
    {
      "cell_type": "code",
      "source": [
        "def fibo(n):\n",
        "    if n < 3: return 1\n",
        "    return fibo(n-1)+fibo(n-2)\n"
      ],
      "metadata": {
        "id": "fU73hK0MuSOK"
      },
      "execution_count": null,
      "outputs": []
    },
    {
      "cell_type": "code",
      "source": [
        "import dis"
      ],
      "metadata": {
        "id": "e8cm56bdugXi"
      },
      "execution_count": null,
      "outputs": []
    },
    {
      "cell_type": "code",
      "source": [
        "dis.dis(fibo)"
      ],
      "metadata": {
        "colab": {
          "base_uri": "https://localhost:8080/"
        },
        "id": "Y1YoPz-NujBv",
        "outputId": "4ab82911-168b-4a8d-9291-777ea5939eec"
      },
      "execution_count": null,
      "outputs": [
        {
          "output_type": "stream",
          "name": "stdout",
          "text": [
            "  2           0 LOAD_FAST                0 (n)\n",
            "              2 LOAD_CONST               1 (3)\n",
            "              4 COMPARE_OP               0 (<)\n",
            "              6 POP_JUMP_IF_FALSE       12\n",
            "              8 LOAD_CONST               2 (1)\n",
            "             10 RETURN_VALUE\n",
            "\n",
            "  3     >>   12 LOAD_GLOBAL              0 (fibo)\n",
            "             14 LOAD_FAST                0 (n)\n",
            "             16 LOAD_CONST               2 (1)\n",
            "             18 BINARY_SUBTRACT\n",
            "             20 CALL_FUNCTION            1\n",
            "             22 LOAD_GLOBAL              0 (fibo)\n",
            "             24 LOAD_FAST                0 (n)\n",
            "             26 LOAD_CONST               3 (2)\n",
            "             28 BINARY_SUBTRACT\n",
            "             30 CALL_FUNCTION            1\n",
            "             32 BINARY_ADD\n",
            "             34 RETURN_VALUE\n"
          ]
        }
      ]
    },
    {
      "cell_type": "code",
      "source": [
        "%%writefile fibo.py\n",
        "\n",
        "def fibo(n):\n",
        "    if n < 3: return 1\n",
        "    return fibo(n-1)+fibo(n-2)\n",
        "\n",
        "if __name__ == '__main__':\n",
        "    print(fibo(36))"
      ],
      "metadata": {
        "colab": {
          "base_uri": "https://localhost:8080/"
        },
        "id": "eT_mLLK7u3al",
        "outputId": "be342922-ee96-4e64-91b6-d77c37224bca"
      },
      "execution_count": null,
      "outputs": [
        {
          "output_type": "stream",
          "name": "stdout",
          "text": [
            "Overwriting fibo.py\n"
          ]
        }
      ]
    },
    {
      "cell_type": "code",
      "source": [
        "!time python3 fibo.py"
      ],
      "metadata": {
        "colab": {
          "base_uri": "https://localhost:8080/"
        },
        "id": "tpLXACCHvQvT",
        "outputId": "4bbaf1f1-adcf-4ae5-dd26-3bed3924c38b"
      },
      "execution_count": null,
      "outputs": [
        {
          "output_type": "stream",
          "name": "stdout",
          "text": [
            "14930352\n",
            "\n",
            "real\t0m3.253s\n",
            "user\t0m3.199s\n",
            "sys\t0m0.015s\n"
          ]
        }
      ]
    },
    {
      "cell_type": "code",
      "source": [
        "%%writefile fibo.c\n",
        "#include<stdio.h>\n",
        "int fibo(int n){\n",
        "    if(n < 3) return 1;\n",
        "    return fibo(n-1)+fibo(n-2);\n",
        "}\n",
        "int main(){\n",
        "    printf(\"%d\\n\", fibo(44));\n",
        "}\n"
      ],
      "metadata": {
        "colab": {
          "base_uri": "https://localhost:8080/"
        },
        "id": "tNzadICswOxS",
        "outputId": "6dfb02be-645c-4326-f885-c14bc4b30406"
      },
      "execution_count": null,
      "outputs": [
        {
          "output_type": "stream",
          "name": "stdout",
          "text": [
            "Overwriting fibo.c\n"
          ]
        }
      ]
    },
    {
      "cell_type": "markdown",
      "source": [
        "# コンパイラ最適化(Optimizer)"
      ],
      "metadata": {
        "id": "R12pNuwuy8Gv"
      }
    },
    {
      "cell_type": "code",
      "source": [
        "!gcc -O4 fibo.c"
      ],
      "metadata": {
        "id": "R-e3EW3HwkEr"
      },
      "execution_count": null,
      "outputs": []
    },
    {
      "cell_type": "code",
      "source": [
        "!time ./a.out"
      ],
      "metadata": {
        "colab": {
          "base_uri": "https://localhost:8080/"
        },
        "id": "p2tpbvuIw4ZD",
        "outputId": "699a1adf-82b2-4b53-c153-879f2592def5"
      },
      "execution_count": null,
      "outputs": [
        {
          "output_type": "stream",
          "name": "stdout",
          "text": [
            "701408733\n",
            "\n",
            "real\t0m1.493s\n",
            "user\t0m1.482s\n",
            "sys\t0m0.001s\n"
          ]
        }
      ]
    },
    {
      "cell_type": "code",
      "source": [
        "!gcc -S fibo.c"
      ],
      "metadata": {
        "id": "lMJS4Iy6xx6Q"
      },
      "execution_count": null,
      "outputs": []
    },
    {
      "cell_type": "code",
      "source": [
        "!cat fibo.s"
      ],
      "metadata": {
        "colab": {
          "base_uri": "https://localhost:8080/"
        },
        "id": "NmV0iRDEx1T9",
        "outputId": "c8e6d34d-dadb-4a95-d222-991d7ae3a9a2"
      },
      "execution_count": null,
      "outputs": [
        {
          "output_type": "stream",
          "name": "stdout",
          "text": [
            "\t.file\t\"fibo.c\"\n",
            "\t.text\n",
            "\t.globl\tfibo\n",
            "\t.type\tfibo, @function\n",
            "fibo:\n",
            ".LFB0:\n",
            "\t.cfi_startproc\n",
            "\tpushq\t%rbp\n",
            "\t.cfi_def_cfa_offset 16\n",
            "\t.cfi_offset 6, -16\n",
            "\tmovq\t%rsp, %rbp\n",
            "\t.cfi_def_cfa_register 6\n",
            "\tpushq\t%rbx\n",
            "\tsubq\t$24, %rsp\n",
            "\t.cfi_offset 3, -24\n",
            "\tmovl\t%edi, -20(%rbp)\n",
            "\tcmpl\t$2, -20(%rbp)\n",
            "\tjg\t.L2\n",
            "\tmovl\t$1, %eax\n",
            "\tjmp\t.L3\n",
            ".L2:\n",
            "\tmovl\t-20(%rbp), %eax\n",
            "\tsubl\t$1, %eax\n",
            "\tmovl\t%eax, %edi\n",
            "\tcall\tfibo\n",
            "\tmovl\t%eax, %ebx\n",
            "\tmovl\t-20(%rbp), %eax\n",
            "\tsubl\t$2, %eax\n",
            "\tmovl\t%eax, %edi\n",
            "\tcall\tfibo\n",
            "\taddl\t%ebx, %eax\n",
            ".L3:\n",
            "\taddq\t$24, %rsp\n",
            "\tpopq\t%rbx\n",
            "\tpopq\t%rbp\n",
            "\t.cfi_def_cfa 7, 8\n",
            "\tret\n",
            "\t.cfi_endproc\n",
            ".LFE0:\n",
            "\t.size\tfibo, .-fibo\n",
            "\t.section\t.rodata\n",
            ".LC0:\n",
            "\t.string\t\"%d\\n\"\n",
            "\t.text\n",
            "\t.globl\tmain\n",
            "\t.type\tmain, @function\n",
            "main:\n",
            ".LFB1:\n",
            "\t.cfi_startproc\n",
            "\tpushq\t%rbp\n",
            "\t.cfi_def_cfa_offset 16\n",
            "\t.cfi_offset 6, -16\n",
            "\tmovq\t%rsp, %rbp\n",
            "\t.cfi_def_cfa_register 6\n",
            "\tmovl\t$44, %edi\n",
            "\tcall\tfibo\n",
            "\tmovl\t%eax, %esi\n",
            "\tleaq\t.LC0(%rip), %rdi\n",
            "\tmovl\t$0, %eax\n",
            "\tcall\tprintf@PLT\n",
            "\tmovl\t$0, %eax\n",
            "\tpopq\t%rbp\n",
            "\t.cfi_def_cfa 7, 8\n",
            "\tret\n",
            "\t.cfi_endproc\n",
            ".LFE1:\n",
            "\t.size\tmain, .-main\n",
            "\t.ident\t\"GCC: (Ubuntu 7.5.0-3ubuntu1~18.04) 7.5.0\"\n",
            "\t.section\t.note.GNU-stack,\"\",@progbits\n"
          ]
        }
      ]
    }
  ]
}